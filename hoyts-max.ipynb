{
 "cells": [
  {
   "cell_type": "code",
   "execution_count": 4,
   "metadata": {},
   "outputs": [],
   "source": [
    "# Set up dataframes\n",
    "\n",
    "import pandas as pd\n",
    "\n",
    "tickets_list = [[\"free\", 0, 7000],\n",
    "                [\"1-dollar\", 1, 6000],\n",
    "                [\"8-dollar\", 8, 5000]]\n",
    "\n",
    "tickets_df =  pd.DataFrame(tickets_list, columns = [\"Ticket\", \"Price\", \"Points\"])\n",
    "\n",
    "ticket_price = 18.75\n",
    "\n",
    "candybar_list = [[\"large-combo\", 20.30, 7000],\n",
    " [\"regular-combo\", 18.30, 6000],\n",
    " [\"small-combo\", 16.30, 5000],\n",
    " [\"large-popcorn\", 11.10, 4500],\n",
    " [\"regular-popcorn\", 10.10, 3500],\n",
    " [\"small-popcorn\", 9.10, 2500],\n",
    " [\"large-soft-drink\", 9.80, 4000],\n",
    " [\"regular-soft-drink\", 8.80, 3500],\n",
    " [\"small-soft-drink\", 7.80, 3000],\n",
    " [\"large-frozone\", 10.80, 4000],\n",
    " [\"small-frozone\", 8.80, 3500],\n",
    " [\"choc-top\", 7.20, 3500]\n",
    "]\n",
    "\n",
    "candybar_df =  pd.DataFrame(candybar_list, columns = [\"Food\", \"Price\", \"Points\"])"
   ]
  },
  {
   "cell_type": "code",
   "execution_count": 5,
   "metadata": {},
   "outputs": [
    {
     "name": "stdout",
     "output_type": "stream",
     "text": [
      "     Ticket  Price  Points  Point Ratio\n",
      "1  1-dollar      1    6000     0.002958\n",
      "0      free      0    7000     0.002679\n",
      "2  8-dollar      8    5000     0.002150\n"
     ]
    }
   ],
   "source": [
    "# Tickets\n",
    "\n",
    "tickets_df[\"Point Ratio\"] = tickets_df.apply(lambda row: (ticket_price - row.Price) / row.Points, axis = 1)\n",
    "\n",
    "print(tickets_df.sort_values(by = [\"Point Ratio\"], ascending = False))"
   ]
  },
  {
   "cell_type": "code",
   "execution_count": 6,
   "metadata": {},
   "outputs": [
    {
     "name": "stdout",
     "output_type": "stream",
     "text": [
      "                  Food  Price  Points  Point Ratio\n",
      "5        small-popcorn    9.1    2500     0.003640\n",
      "2          small-combo   16.3    5000     0.003260\n",
      "1        regular-combo   18.3    6000     0.003050\n",
      "0          large-combo   20.3    7000     0.002900\n",
      "4      regular-popcorn   10.1    3500     0.002886\n",
      "9        large-frozone   10.8    4000     0.002700\n",
      "8     small-soft-drink    7.8    3000     0.002600\n",
      "7   regular-soft-drink    8.8    3500     0.002514\n",
      "10       small-frozone    8.8    3500     0.002514\n",
      "3        large-popcorn   11.1    4500     0.002467\n",
      "6     large-soft-drink    9.8    4000     0.002450\n",
      "11            choc-top    7.2    3500     0.002057\n"
     ]
    }
   ],
   "source": [
    "# Candybar\n",
    "\n",
    "candybar_df[\"Point Ratio\"] = candybar_df.apply(lambda row: row.Price / row.Points, axis = 1)\n",
    "\n",
    "print(candybar_df.sort_values(by = [\"Point Ratio\"], ascending = False))"
   ]
  }
 ],
 "metadata": {
  "kernelspec": {
   "display_name": "Python 3",
   "language": "python",
   "name": "python3"
  },
  "language_info": {
   "codemirror_mode": {
    "name": "ipython",
    "version": 3
   },
   "file_extension": ".py",
   "mimetype": "text/x-python",
   "name": "python",
   "nbconvert_exporter": "python",
   "pygments_lexer": "ipython3",
   "version": "3.10.11"
  }
 },
 "nbformat": 4,
 "nbformat_minor": 2
}
